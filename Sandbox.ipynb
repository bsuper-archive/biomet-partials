{
 "cells": [
  {
   "cell_type": "code",
   "execution_count": 27,
   "metadata": {
    "collapsed": false
   },
   "outputs": [
    {
     "name": "stdout",
     "output_type": "stream",
     "text": [
      "(0, 0.0085018165, array([[ 0.20720699]], dtype=float32), array([ 0.33323064], dtype=float32))\n",
      "(20, 3.1030624e-05, array([[ 0.11997971]], dtype=float32), array([ 0.28927711], dtype=float32))\n",
      "(40, 2.5728723e-06, array([[ 0.10575311]], dtype=float32), array([ 0.29691237], dtype=float32))\n",
      "(60, 2.1331924e-07, array([[ 0.10165657]], dtype=float32), array([ 0.29911095], dtype=float32))\n",
      "(80, 1.7686471e-08, array([[ 0.10047699]], dtype=float32), array([ 0.29974401], dtype=float32))\n",
      "(100, 1.4669814e-09, array([[ 0.10013738]], dtype=float32), array([ 0.29992628], dtype=float32))\n",
      "(120, 1.2168024e-10, array([[ 0.10003956]], dtype=float32), array([ 0.29997876], dtype=float32))\n",
      "(140, 1.0076091e-11, array([[ 0.10001138]], dtype=float32), array([ 0.2999939], dtype=float32))\n",
      "(160, 8.3838714e-13, array([[ 0.10000328]], dtype=float32), array([ 0.29999825], dtype=float32))\n",
      "(180, 6.9437789e-14, array([[ 0.10000094]], dtype=float32), array([ 0.29999951], dtype=float32))\n",
      "(200, 5.9152681e-15, array([[ 0.10000027]], dtype=float32), array([ 0.29999986], dtype=float32))\n"
     ]
    }
   ],
   "source": [
    "import tensorflow as tf\n",
    "import tensorflow.contrib.layers as layers\n",
    "import numpy as np\n",
    "\n",
    "# Create 100 phony x, y data points in NumPy, y = x * 0.1 + 0.3\n",
    "x_data = tf.constant(np.random.rand(100).astype(np.float32).reshape(-1, 1))\n",
    "y_data = x_data * 0.1 + 0.3\n",
    "\n",
    "# Try to find values for W and b that compute y_data = W * x_data + b\n",
    "# (We know that W should be 0.1 and b 0.3, but TensorFlow will\n",
    "# figure that out for us.)\n",
    "W = tf.Variable(tf.random_uniform([1], -1.0, 1.0))\n",
    "b = tf.Variable(tf.zeros([1]))\n",
    "# y = W * x_data + b\n",
    "y = layers.fully_connected(x_data, 1, activation_fn=None, scope='fc1', reuse=True)\n",
    "\n",
    "with tf.variable_scope('fc1', reuse=True):\n",
    "    weights = tf.get_variable(\"weights\")\n",
    "    biases = tf.get_variable(\"biases\")\n",
    "\n",
    "# Minimize the mean squared errors.\n",
    "loss = tf.reduce_mean(tf.square(y - y_data))\n",
    "dy = tf.gradients(y, x_data)\n",
    "optimizer = tf.train.GradientDescentOptimizer(0.5)\n",
    "train = optimizer.minimize(loss)\n",
    "\n",
    "# Before starting, initialize the variables.  We will 'run' this first.\n",
    "init = tf.initialize_all_variables()\n",
    "\n",
    "# Launch the graph.\n",
    "sess = tf.Session()\n",
    "sess.run(init)\n",
    "\n",
    "# Fit the line.\n",
    "for step in range(201):\n",
    "    sess.run(train)\n",
    "    if step % 20 == 0:\n",
    "        print(step, sess.run(loss), sess.run(weights), sess.run(biases))\n",
    "\n",
    "# Learns best fit is W: [0.1], b: [0.3]"
   ]
  },
  {
   "cell_type": "code",
   "execution_count": 2,
   "metadata": {
    "collapsed": false
   },
   "outputs": [
    {
     "name": "stdout",
     "output_type": "stream",
     "text": [
      "[array([ 0.04490004,  0.59112681,  0.55690053,  0.15149971,  0.94528892,\n",
      "        0.85335685,  0.26042266,  0.72730027,  0.8507797 ,  0.42275161,\n",
      "        0.30775584,  0.06026466,  0.89633998,  0.4560227 ,  0.47358028,\n",
      "        0.45455638,  0.81906416,  0.24336021,  0.48076479,  0.46119105,\n",
      "        0.60761694,  0.82796707,  0.01536339,  0.46045345,  0.78061435,\n",
      "        0.10728018,  0.04109852,  0.34452374,  0.71991546,  0.45993468,\n",
      "        0.44931997,  0.01048476,  0.70010364,  0.57301   ,  0.96985367,\n",
      "        0.37756289,  0.883512  ,  0.33802567,  0.54709228,  0.22954385,\n",
      "        0.12342758,  0.64240145,  0.60668716,  0.20064537,  0.30821353,\n",
      "        0.08768994,  0.74139731,  0.09234942,  0.91095979,  0.09648072,\n",
      "        0.27250639,  0.30797607,  0.67808544,  0.99264024,  0.42761689,\n",
      "        0.3145326 ,  0.1816887 ,  0.81193885,  0.5996941 ,  0.39341629,\n",
      "        0.8735037 ,  0.80411407,  0.54433446,  0.90810048,  0.08873475,\n",
      "        0.96158709,  0.67215123,  0.79678489,  0.97170882,  0.80275324,\n",
      "        0.59684084,  0.96279738,  0.08238439,  0.81862063,  0.70072396,\n",
      "        0.76184084,  0.66390707,  0.9285271 ,  0.44497349,  0.8847658 ,\n",
      "        0.24676745,  0.10950968,  0.48812106,  0.00247519,  0.60395735,\n",
      "        0.14525383,  0.86448538,  0.97620828,  0.87255307,  0.43337863,\n",
      "        0.31525061,  0.85765284,  0.64810964,  0.95866339,  0.28447743,\n",
      "        0.91514843,  0.82738608,  0.25137404,  0.47261582,  0.49794197])]\n"
     ]
    }
   ],
   "source": [
    "W = tf.Variable(np.random.rand(100))\n",
    "foo = tf.reduce_sum(W*np.random.rand(100))\n",
    "bar = tf.gradients(foo,W)\n",
    "\n",
    "sess = tf.Session()\n",
    "sess.run(tf.initialize_all_variables())\n",
    "print(sess.run(bar))"
   ]
  },
  {
   "cell_type": "code",
   "execution_count": null,
   "metadata": {
    "collapsed": true
   },
   "outputs": [],
   "source": []
  }
 ],
 "metadata": {
  "kernelspec": {
   "display_name": "Python 2",
   "language": "python",
   "name": "python2"
  },
  "language_info": {
   "codemirror_mode": {
    "name": "ipython",
    "version": 2
   },
   "file_extension": ".py",
   "mimetype": "text/x-python",
   "name": "python",
   "nbconvert_exporter": "python",
   "pygments_lexer": "ipython2",
   "version": "2.7.12"
  }
 },
 "nbformat": 4,
 "nbformat_minor": 1
}
