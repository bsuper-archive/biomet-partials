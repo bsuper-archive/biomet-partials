{
 "cells": [
  {
   "cell_type": "markdown",
   "metadata": {
    "deletable": true,
    "editable": true
   },
   "source": [
    "# Computing Partial Derivatives for Neural Networks\n",
    "\n",
    "### Setup"
   ]
  },
  {
   "cell_type": "code",
   "execution_count": null,
   "metadata": {
    "collapsed": false,
    "deletable": true,
    "editable": true
   },
   "outputs": [],
   "source": [
    "import matplotlib.pyplot as plt\n",
    "from mpl_toolkits.mplot3d import Axes3D\n",
    "import numpy as np\n",
    "import pandas as pd\n",
    "import seaborn as sns\n",
    "from sklearn.preprocessing import StandardScaler\n",
    "import tensorflow as tf\n",
    "import tensorflow.contrib.layers as layers\n",
    "\n",
    "%matplotlib inline\n",
    "plt.rcParams['figure.figsize'] = (12, 8) # set default size of plots\n",
    "plt.rcParams['agg.path.chunksize'] = 10000\n",
    "%config InlineBackend.figure_format = 'retina'\n",
    "\n",
    "# for auto-reloading external modules\n",
    "# see http://stackoverflow.com/questions/1907993/autoreload-of-modules-in-ipython\n",
    "%load_ext autoreload\n",
    "%autoreload 2\n",
    "\n",
    "sns.set_style(\"whitegrid\")\n",
    "sns.set_palette(\"bright\")"
   ]
  },
  {
   "cell_type": "markdown",
   "metadata": {
    "deletable": true,
    "editable": true
   },
   "source": [
    "### Helper methods"
   ]
  },
  {
   "cell_type": "code",
   "execution_count": null,
   "metadata": {
    "collapsed": true,
    "deletable": true,
    "editable": true
   },
   "outputs": [],
   "source": [
    "def model(x, reuse=False):\n",
    "    \"\"\"\n",
    "    2 Hidden Layer (5 x 5) neural network with RELU activation.\n",
    "    \"\"\"\n",
    "    fc1 = layers.fully_connected(x, 5, activation_fn=tf.nn.relu, scope='fc1', reuse=reuse)\n",
    "    fc2 = layers.fully_connected(fc1, 5, activation_fn=tf.nn.relu, scope='fc2', reuse=reuse)\n",
    "    y = layers.fully_connected(fc2, 1, activation_fn=None, scope='fc3', reuse=reuse)\n",
    "    return y\n",
    "\n",
    "def preprocess(X):\n",
    "    \"\"\"\n",
    "    Scales and shifts X to have 0 mean and unit variance.\n",
    "    \"\"\"\n",
    "    scaler = StandardScaler()\n",
    "    X = scaler.fit_transform(X)\n",
    "    return X, scaler\n",
    "\n",
    "def get_data(df, X_vars, y_var, train_test_split=1.0):\n",
    "    \"\"\"\n",
    "    Gets normalized features and the response variable from the dataframe.\n",
    "    \n",
    "    Args:\n",
    "      - df: Pandas dataframe containing the input data.\n",
    "      - X_vars: List of column names for the input matrix.\n",
    "      - y_var: Column name for the output matrix.\n",
    "      - train_test_split: Percentage of data to go in train.\n",
    "    \n",
    "    Returns:\n",
    "        - X: Normalized input matrix containing X_vars.\n",
    "        - y: Array containing the response variable.\n",
    "        - X_scaler: Module used to normalize X.\n",
    "    \"\"\"\n",
    "    # Filter out rows where one of the input variables and/or response variable is NaN.\n",
    "    df = df[X_vars + [y_var]].dropna()\n",
    "    df = df.reindex(np.random.permutation(df.index))\n",
    "    df_train = df.iloc[:int(df.shape[0] * train_test_split)]\n",
    "    df_test = df.iloc[int(df.shape[0] * train_test_split):]\n",
    "    X_train, X_scaler = preprocess(df_train[X_vars])\n",
    "    X_test = X_scaler.transform(df_test[X_vars])\n",
    "    y_train = df_train[y_var]\n",
    "    y_test = df_test[y_var]\n",
    "    return X_train, y_train, X_test, y_test, X_scaler"
   ]
  },
  {
   "cell_type": "markdown",
   "metadata": {
    "deletable": true,
    "editable": true
   },
   "source": [
    "### Read the data"
   ]
  },
  {
   "cell_type": "code",
   "execution_count": null,
   "metadata": {
    "collapsed": false,
    "deletable": true,
    "editable": true
   },
   "outputs": [],
   "source": [
    "US_Var_df = pd.read_csv(\"biomet_data/AMF_US-Var_BASE_HH_9-1.csv\", comment = \"#\").replace(\"-9999\", np.nan)\n",
    "US_Ton_df = pd.read_csv(\"biomet_data/AMF_US-Ton_BASE_HH_9-1.csv\", comment = \"#\").replace(\"-9999\", np.nan)\n",
    "print \"Var Data: \", US_Var_df.shape\n",
    "print \"Tonzi Data: \", US_Ton_df.shape\n",
    "print \"Columns: \", US_Var_df.columns"
   ]
  },
  {
   "cell_type": "markdown",
   "metadata": {
    "deletable": true,
    "editable": true
   },
   "source": [
    "### Display features and response variable"
   ]
  },
  {
   "cell_type": "code",
   "execution_count": null,
   "metadata": {
    "collapsed": false,
    "deletable": true,
    "editable": true
   },
   "outputs": [],
   "source": [
    "X_vars, y_var, train_test_split = ['TA', 'SW_IN', 'RH'], 'NETRAD', 0.8\n",
    "X_train, y_train, X_val, y_val, X_scaler = get_data(US_Var_df, X_vars, y_var, train_test_split)\n",
    "print \"X_train: \", X_train.shape\n",
    "if X_train.shape[1] == 1:\n",
    "    plt.scatter(X_scaler.inverse_transform(X_train), y_train)\n",
    "    plt.xlabel(X_vars[0])\n",
    "    plt.ylabel(y_var)\n",
    "    plt.show()\n",
    "    plt.xlabel(X_vars[0])\n",
    "    sns.kdeplot(X_scaler.inverse_transform(X_train[:20000, 0]), y_train[:20000], cmap=\"Blues\", shade=True, shade_lowest=False)\n",
    "elif X_train.shape[1] == 2:\n",
    "    fig = plt.figure()\n",
    "    ax = fig.add_subplot(111, projection='3d')\n",
    "#     ax.xlim([-20,20])\n",
    "    ax.scatter(X_train[:, 0], X_train[:, 1], y_train)\n",
    "else:\n",
    "    print \"Cannot plot data when in {0}-D!\".format(X_train.shape[1] + 1)"
   ]
  },
  {
   "cell_type": "code",
   "execution_count": null,
   "metadata": {
    "collapsed": false,
    "deletable": true,
    "editable": true
   },
   "outputs": [],
   "source": [
    "X_uniform = np.mgrid[-2:2.01:0.08, -2:2.01:0.08, -2:2.01:0.08].reshape(3,-1).T\n",
    "print X_uniform.shape"
   ]
  },
  {
   "cell_type": "code",
   "execution_count": null,
   "metadata": {
    "collapsed": true,
    "deletable": true,
    "editable": true
   },
   "outputs": [],
   "source": [
    "X_gaussian = np.random.multivariate_normal([0, 0, 0], np.diag([1, 1, 1]), 50000)"
   ]
  },
  {
   "cell_type": "markdown",
   "metadata": {
    "deletable": true,
    "editable": true
   },
   "source": [
    "### Train Neural Network, Compute Partials, Plot Result\n",
    "\n",
    "Using a 80/20 split on the training data, I trained a 5x5 2 hidden layer neural network with a batch size of 256. I then computed the predictions and partial derivatives w.r.t. input on the validation set. As you may observe, the neural network tries to predict the mean of the response distribution at any given x. For the currently chosen parameters, this results in a negative almost straight line. The partial derivatives as a result are constant for many segments of x."
   ]
  },
  {
   "cell_type": "code",
   "execution_count": null,
   "metadata": {
    "collapsed": false,
    "deletable": true,
    "editable": true,
    "scrolled": false
   },
   "outputs": [],
   "source": [
    "# Split the data into batches\n",
    "batch_size = 256\n",
    "num_batches = X_train.shape[0] / batch_size\n",
    "X_batches = np.array_split(X_train, num_batches)\n",
    "y_batches = np.array_split(y_train.values.reshape(-1, 1), num_batches)\n",
    "\n",
    "# Placeholders for the \n",
    "X = tf.placeholder(tf.float32, shape=[None, X_train.shape[1]])\n",
    "y = tf.placeholder(tf.float32, shape=[None, 1])\n",
    "y_pred = model(X, reuse=False)\n",
    "\n",
    "# Minimize the mean squared errors.\n",
    "loss = tf.reduce_mean(tf.square(y_pred - y))\n",
    "optimizer = tf.train.GradientDescentOptimizer(0.00001)\n",
    "train = optimizer.minimize(loss)\n",
    "\n",
    "# Compute partial derivative of predictions w.r.t. input.\n",
    "partial_x = tf.gradients(y_pred, X)\n",
    "\n",
    "# Before starting, initialize the variables.  We will 'run' this first.\n",
    "init = tf.initialize_all_variables()\n",
    "\n",
    "# Launch the graph.\n",
    "sess = tf.Session()\n",
    "sess.run(init)\n",
    "\n",
    "with tf.Graph().as_default(), sess.as_default():\n",
    "    for epoch in xrange(30):\n",
    "        for i in xrange(num_batches):\n",
    "            # Train on batch i.\n",
    "            _, batch_loss = sess.run([train, loss], feed_dict={X: X_batches[i], y: y_batches[i]})\n",
    "            if i % 500 == 0:\n",
    "                print \"Epoch: \", epoch, \"Batch: \", i, \"MSE: \", batch_loss\n",
    "    \n",
    "    # Compute test predictions and partial derivatives w.r.t. input.\n",
    "    preds, partials = sess.run([y_pred, partial_x], feed_dict={X: X_val})\n",
    "    # Compute test predictions and partial derivatives w.r.t. input.\n",
    "    preds, partials = sess.run([y_pred, partial_x], feed_dict={X: X_val})\n",
    "    uniform_preds, uniform_partials = sess.run([y_pred, partial_x], feed_dict={X: X_uniform})\n",
    "    gauss_preds, gauss_partials = sess.run([y_pred, partial_x], feed_dict={X: X_gaussian})"
   ]
  },
  {
   "cell_type": "code",
   "execution_count": null,
   "metadata": {
    "collapsed": false,
    "deletable": true,
    "editable": true
   },
   "outputs": [],
   "source": [
    "# Plot the first 20000 samples for KDE and 1000 for preds, already randomly shuffled, to save performance.\n",
    "plt.title(\"NETRAD vs. TA\")\n",
    "sns.kdeplot(X_scaler.inverse_transform(X_val)[:20000, 0], y_val[:20000], cmap=\"Blues\", shade=True, shade_lowest=False)\n",
    "plt.scatter(X_scaler.inverse_transform(X_val)[:1000, 0], preds[:1000, 0], c='r')\n",
    "plt.show()\n",
    "plt.title(\"NETRAD vs. SW_IN\")\n",
    "sns.kdeplot(X_scaler.inverse_transform(X_val)[:20000, 1], y_val[:20000], cmap=\"Blues\", shade=True, shade_lowest=False)\n",
    "plt.scatter(X_scaler.inverse_transform(X_val)[:1000, 1], preds[:1000, 0], c='r')\n",
    "plt.show()\n",
    "plt.title(\"NETRAD vs. RH\")\n",
    "sns.kdeplot(X_scaler.inverse_transform(X_val)[:20000, 2], y_val[:20000], cmap=\"Blues\", shade=True, shade_lowest=False)\n",
    "plt.scatter(X_scaler.inverse_transform(X_val)[:1000, 2], preds[:1000, 0], c='r')\n",
    "plt.show()"
   ]
  },
  {
   "cell_type": "code",
   "execution_count": null,
   "metadata": {
    "collapsed": false,
    "deletable": true,
    "editable": true
   },
   "outputs": [],
   "source": [
    "# plt.scatter(X_scaler.inverse_transform(X_val)[:20000, 0], X_scaler.inverse_transform(X_val)[:20000, 1], c='b')\n",
    "# plt.scatter(X_scaler.inverse_transform(X_val)[:20000, 0], X_scaler.inverse_transform(X_val)[:20000, 1], c='b')\n",
    "\n",
    "sns.kdeplot(X_scaler.inverse_transform(X_val)[:20000, 0], X_scaler.inverse_transform(X_val)[:20000, 1], cmap=\"Blues\", shade=True, shade_lowest=False)\n",
    "\n",
    "\n"
   ]
  },
  {
   "cell_type": "code",
   "execution_count": null,
   "metadata": {
    "collapsed": false,
    "deletable": true,
    "editable": true
   },
   "outputs": [],
   "source": [
    "plt.title(\"Partials of NETRAD w.r.t. TA\")\n",
    "plt.scatter(X_scaler.inverse_transform(X_val)[:, 0], partials[0][:, 0])"
   ]
  },
  {
   "cell_type": "code",
   "execution_count": null,
   "metadata": {
    "collapsed": false,
    "deletable": true,
    "editable": true
   },
   "outputs": [],
   "source": [
    "plt.title(\"Partials of NETRAD w.r.t. SW_IN\")\n",
    "plt.scatter(X_scaler.inverse_transform(X_val)[:, 1], partials[0][:, 1])"
   ]
  },
  {
   "cell_type": "code",
   "execution_count": null,
   "metadata": {
    "collapsed": false,
    "deletable": true,
    "editable": true
   },
   "outputs": [],
   "source": [
    "plt.title(\"Partials of NETRAD w.r.t. RH\")\n",
    "plt.scatter(X_scaler.inverse_transform(X_val)[:, 2], partials[0][:, 2])"
   ]
  },
  {
   "cell_type": "code",
   "execution_count": null,
   "metadata": {
    "collapsed": false,
    "deletable": true,
    "editable": true
   },
   "outputs": [],
   "source": [
    "plt.title(\"Predictions of NETRAD w.r.t. TA\")\n",
    "plt.scatter(X_scaler.inverse_transform(X_val)[:20000, 0], preds[:20000, 0], c='r')"
   ]
  },
  {
   "cell_type": "code",
   "execution_count": null,
   "metadata": {
    "collapsed": false,
    "deletable": true,
    "editable": true
   },
   "outputs": [],
   "source": [
    "plt.title(\"Predictions of NETRAD w.r.t. SW_IN\")\n",
    "plt.scatter(X_scaler.inverse_transform(X_val)[:20000, 1], preds[:20000, 0], c='r')"
   ]
  },
  {
   "cell_type": "code",
   "execution_count": null,
   "metadata": {
    "collapsed": false,
    "deletable": true,
    "editable": true
   },
   "outputs": [],
   "source": [
    "plt.title(\"Predictions of NETRAD w.r.t. RH\")\n",
    "plt.scatter(X_scaler.inverse_transform(X_val)[:20000, 2], preds[:20000, 0], c='r')"
   ]
  },
  {
   "cell_type": "code",
   "execution_count": null,
   "metadata": {
    "collapsed": false,
    "deletable": true,
    "editable": true
   },
   "outputs": [],
   "source": [
    "plt.title(\"Prediction vs. Actual\")\n",
    "plt.scatter(y_val[:20000], preds[:20000])\n",
    "plt.plot([-200, 800], [-200, 800])"
   ]
  },
  {
   "cell_type": "markdown",
   "metadata": {
    "deletable": true,
    "editable": true
   },
   "source": [
    "## Uniform Predictions/Partials"
   ]
  },
  {
   "cell_type": "code",
   "execution_count": null,
   "metadata": {
    "collapsed": false,
    "deletable": true,
    "editable": true
   },
   "outputs": [],
   "source": [
    "plt.title(\"Predictions of NETRAD w.r.t. TA (Uniform)\")\n",
    "plt.scatter(X_scaler.inverse_transform(X_uniform)[:, 0], uniform_preds[:, 0], c='r')"
   ]
  },
  {
   "cell_type": "code",
   "execution_count": null,
   "metadata": {
    "collapsed": false,
    "deletable": true,
    "editable": true
   },
   "outputs": [],
   "source": [
    "plt.title(\"Partials of NETRAD w.r.t. TA\")\n",
    "plt.scatter(X_scaler.inverse_transform(X_uniform)[:, 0], uniform_partials[0][:, 0])"
   ]
  },
  {
   "cell_type": "code",
   "execution_count": null,
   "metadata": {
    "collapsed": false,
    "deletable": true,
    "editable": true
   },
   "outputs": [],
   "source": [
    "plt.title(\"Predictions of NETRAD w.r.t. SW_IN\")\n",
    "plt.scatter(X_scaler.inverse_transform(X_uniform)[:, 1], uniform_preds[:, 0], c='r')"
   ]
  },
  {
   "cell_type": "code",
   "execution_count": null,
   "metadata": {
    "collapsed": false,
    "deletable": true,
    "editable": true
   },
   "outputs": [],
   "source": [
    "plt.title(\"Partials of NETRAD w.r.t. SW_IN\")\n",
    "plt.scatter(X_scaler.inverse_transform(X_uniform)[:, 1], uniform_partials[0][:, 1])"
   ]
  },
  {
   "cell_type": "code",
   "execution_count": null,
   "metadata": {
    "collapsed": false,
    "deletable": true,
    "editable": true
   },
   "outputs": [],
   "source": [
    "plt.title(\"Predictions of NETRAD w.r.t. RH\")\n",
    "plt.scatter(X_scaler.inverse_transform(X_uniform)[:, 2], uniform_preds[:, 0], c='r')"
   ]
  },
  {
   "cell_type": "code",
   "execution_count": null,
   "metadata": {
    "collapsed": false,
    "deletable": true,
    "editable": true
   },
   "outputs": [],
   "source": [
    "plt.title(\"Partials of NETRAD w.r.t. RH\")\n",
    "plt.scatter(X_scaler.inverse_transform(X_uniform)[:, 2], uniform_partials[0][:, 2])"
   ]
  },
  {
   "cell_type": "markdown",
   "metadata": {
    "deletable": true,
    "editable": true
   },
   "source": [
    "## Gaussian Predcitions/Partials"
   ]
  },
  {
   "cell_type": "code",
   "execution_count": null,
   "metadata": {
    "collapsed": false,
    "deletable": true,
    "editable": true
   },
   "outputs": [],
   "source": [
    "plt.title(\"Predictions of NETRAD w.r.t. TA (Gaussian)\")\n",
    "plt.scatter(X_scaler.inverse_transform(X_gaussian)[:, 0], gauss_preds[:, 0], c='r')"
   ]
  },
  {
   "cell_type": "code",
   "execution_count": null,
   "metadata": {
    "collapsed": false,
    "deletable": true,
    "editable": true
   },
   "outputs": [],
   "source": [
    "fig = plt.figure()\n",
    "ax = fig.add_subplot(111, projection='3d')\n",
    "#     ax.xlim([-20,20])\n",
    "ax.scatter(X_scaler.inverse_transform(X_gaussian)[:, 0], X_scaler.inverse_transform(X_gaussian)[:, 1], gauss_preds[:, 0])"
   ]
  },
  {
   "cell_type": "code",
   "execution_count": null,
   "metadata": {
    "collapsed": false,
    "deletable": true,
    "editable": true
   },
   "outputs": [],
   "source": [
    "plt.title(\"Partials of NETRAD w.r.t. TA\")\n",
    "plt.scatter(X_scaler.inverse_transform(X_gaussian)[:, 0], gauss_partials[0][:, 0])"
   ]
  },
  {
   "cell_type": "code",
   "execution_count": null,
   "metadata": {
    "collapsed": false,
    "deletable": true,
    "editable": true
   },
   "outputs": [],
   "source": [
    "plt.title(\"Predictions of NETRAD w.r.t. SW_IN\")\n",
    "plt.scatter(X_scaler.inverse_transform(X_gaussian)[:, 1], gauss_preds[:, 0], c='r')"
   ]
  },
  {
   "cell_type": "code",
   "execution_count": null,
   "metadata": {
    "collapsed": false,
    "deletable": true,
    "editable": true
   },
   "outputs": [],
   "source": [
    "plt.title(\"Partials of NETRAD w.r.t. SW_IN\")\n",
    "plt.scatter(X_scaler.inverse_transform(X_gaussian)[:, 1], gauss_partials[0][:, 1])"
   ]
  },
  {
   "cell_type": "code",
   "execution_count": null,
   "metadata": {
    "collapsed": false,
    "deletable": true,
    "editable": true
   },
   "outputs": [],
   "source": [
    "plt.title(\"Predictions of NETRAD w.r.t. RH\")\n",
    "plt.scatter(X_scaler.inverse_transform(X_gaussian)[:, 2], gauss_preds[:, 0], c='r')"
   ]
  },
  {
   "cell_type": "code",
   "execution_count": null,
   "metadata": {
    "collapsed": false,
    "deletable": true,
    "editable": true
   },
   "outputs": [],
   "source": [
    "plt.title(\"Partials of NETRAD w.r.t. RH\")\n",
    "plt.scatter(X_scaler.inverse_transform(X_gaussian)[:, 2], gauss_partials[0][:, 2])"
   ]
  }
 ],
 "metadata": {
  "kernelspec": {
   "display_name": "Python 2",
   "language": "python",
   "name": "python2"
  },
  "language_info": {
   "codemirror_mode": {
    "name": "ipython",
    "version": 2
   },
   "file_extension": ".py",
   "mimetype": "text/x-python",
   "name": "python",
   "nbconvert_exporter": "python",
   "pygments_lexer": "ipython2",
   "version": "2.7.13"
  }
 },
 "nbformat": 4,
 "nbformat_minor": 1
}
